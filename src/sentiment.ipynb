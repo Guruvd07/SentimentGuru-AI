{
 "cells": [
  {
   "cell_type": "code",
   "execution_count": 1,
   "metadata": {},
   "outputs": [
    {
     "name": "stdout",
     "output_type": "stream",
     "text": [
      "Requirement already satisfied: transformers in d:\\1 - hackathons\\24 - youtube analysis\\venv\\lib\\site-packages (4.56.1)\n",
      "Requirement already satisfied: torch in d:\\1 - hackathons\\24 - youtube analysis\\venv\\lib\\site-packages (2.8.0)\n",
      "Requirement already satisfied: filelock in d:\\1 - hackathons\\24 - youtube analysis\\venv\\lib\\site-packages (from transformers) (3.19.1)\n",
      "Requirement already satisfied: huggingface-hub<1.0,>=0.34.0 in d:\\1 - hackathons\\24 - youtube analysis\\venv\\lib\\site-packages (from transformers) (0.35.0)\n",
      "Requirement already satisfied: numpy>=1.17 in d:\\1 - hackathons\\24 - youtube analysis\\venv\\lib\\site-packages (from transformers) (2.3.3)\n",
      "Requirement already satisfied: packaging>=20.0 in d:\\1 - hackathons\\24 - youtube analysis\\venv\\lib\\site-packages (from transformers) (25.0)\n",
      "Requirement already satisfied: pyyaml>=5.1 in d:\\1 - hackathons\\24 - youtube analysis\\venv\\lib\\site-packages (from transformers) (6.0.2)\n",
      "Requirement already satisfied: regex!=2019.12.17 in d:\\1 - hackathons\\24 - youtube analysis\\venv\\lib\\site-packages (from transformers) (2025.9.1)\n",
      "Requirement already satisfied: requests in d:\\1 - hackathons\\24 - youtube analysis\\venv\\lib\\site-packages (from transformers) (2.32.5)\n",
      "Requirement already satisfied: tokenizers<=0.23.0,>=0.22.0 in d:\\1 - hackathons\\24 - youtube analysis\\venv\\lib\\site-packages (from transformers) (0.22.0)\n",
      "Requirement already satisfied: safetensors>=0.4.3 in d:\\1 - hackathons\\24 - youtube analysis\\venv\\lib\\site-packages (from transformers) (0.6.2)\n",
      "Requirement already satisfied: tqdm>=4.27 in d:\\1 - hackathons\\24 - youtube analysis\\venv\\lib\\site-packages (from transformers) (4.67.1)\n",
      "Requirement already satisfied: fsspec>=2023.5.0 in d:\\1 - hackathons\\24 - youtube analysis\\venv\\lib\\site-packages (from huggingface-hub<1.0,>=0.34.0->transformers) (2025.9.0)\n",
      "Requirement already satisfied: typing-extensions>=3.7.4.3 in d:\\1 - hackathons\\24 - youtube analysis\\venv\\lib\\site-packages (from huggingface-hub<1.0,>=0.34.0->transformers) (4.15.0)\n",
      "Requirement already satisfied: sympy>=1.13.3 in d:\\1 - hackathons\\24 - youtube analysis\\venv\\lib\\site-packages (from torch) (1.14.0)\n",
      "Requirement already satisfied: networkx in d:\\1 - hackathons\\24 - youtube analysis\\venv\\lib\\site-packages (from torch) (3.5)\n",
      "Requirement already satisfied: jinja2 in d:\\1 - hackathons\\24 - youtube analysis\\venv\\lib\\site-packages (from torch) (3.1.6)\n",
      "Requirement already satisfied: setuptools in d:\\1 - hackathons\\24 - youtube analysis\\venv\\lib\\site-packages (from torch) (80.9.0)\n",
      "Requirement already satisfied: mpmath<1.4,>=1.1.0 in d:\\1 - hackathons\\24 - youtube analysis\\venv\\lib\\site-packages (from sympy>=1.13.3->torch) (1.3.0)\n",
      "Requirement already satisfied: colorama in d:\\1 - hackathons\\24 - youtube analysis\\venv\\lib\\site-packages (from tqdm>=4.27->transformers) (0.4.6)\n",
      "Requirement already satisfied: MarkupSafe>=2.0 in d:\\1 - hackathons\\24 - youtube analysis\\venv\\lib\\site-packages (from jinja2->torch) (3.0.2)\n",
      "Requirement already satisfied: charset_normalizer<4,>=2 in d:\\1 - hackathons\\24 - youtube analysis\\venv\\lib\\site-packages (from requests->transformers) (3.4.3)\n",
      "Requirement already satisfied: idna<4,>=2.5 in d:\\1 - hackathons\\24 - youtube analysis\\venv\\lib\\site-packages (from requests->transformers) (3.10)\n",
      "Requirement already satisfied: urllib3<3,>=1.21.1 in d:\\1 - hackathons\\24 - youtube analysis\\venv\\lib\\site-packages (from requests->transformers) (2.5.0)\n",
      "Requirement already satisfied: certifi>=2017.4.17 in d:\\1 - hackathons\\24 - youtube analysis\\venv\\lib\\site-packages (from requests->transformers) (2025.8.3)\n",
      "Note: you may need to restart the kernel to use updated packages.\n"
     ]
    }
   ],
   "source": [
    "pip install transformers torch"
   ]
  },
  {
   "cell_type": "code",
   "execution_count": 4,
   "metadata": {},
   "outputs": [
    {
     "name": "stdout",
     "output_type": "stream",
     "text": [
      "Collecting sentencepiece\n",
      "  Downloading sentencepiece-0.2.1-cp312-cp312-win_amd64.whl.metadata (10 kB)\n",
      "Downloading sentencepiece-0.2.1-cp312-cp312-win_amd64.whl (1.1 MB)\n",
      "   ---------------------------------------- 0.0/1.1 MB ? eta -:--:--\n",
      "   ---------------------------------------- 0.0/1.1 MB ? eta -:--:--\n",
      "   ----------------------------- ---------- 0.8/1.1 MB 3.0 MB/s eta 0:00:01\n",
      "   ---------------------------------------- 1.1/1.1 MB 3.4 MB/s  0:00:00\n",
      "Installing collected packages: sentencepiece\n",
      "Successfully installed sentencepiece-0.2.1\n",
      "Note: you may need to restart the kernel to use updated packages.\n"
     ]
    }
   ],
   "source": [
    "pip install sentencepiece"
   ]
  },
  {
   "cell_type": "code",
   "execution_count": 5,
   "metadata": {},
   "outputs": [
    {
     "name": "stdout",
     "output_type": "stream",
     "text": [
      "Collecting tiktoken\n",
      "  Downloading tiktoken-0.11.0-cp312-cp312-win_amd64.whl.metadata (6.9 kB)\n",
      "Requirement already satisfied: regex>=2022.1.18 in d:\\1 - hackathons\\24 - youtube analysis\\venv\\lib\\site-packages (from tiktoken) (2025.9.1)\n",
      "Requirement already satisfied: requests>=2.26.0 in d:\\1 - hackathons\\24 - youtube analysis\\venv\\lib\\site-packages (from tiktoken) (2.32.5)\n",
      "Requirement already satisfied: charset_normalizer<4,>=2 in d:\\1 - hackathons\\24 - youtube analysis\\venv\\lib\\site-packages (from requests>=2.26.0->tiktoken) (3.4.3)\n",
      "Requirement already satisfied: idna<4,>=2.5 in d:\\1 - hackathons\\24 - youtube analysis\\venv\\lib\\site-packages (from requests>=2.26.0->tiktoken) (3.10)\n",
      "Requirement already satisfied: urllib3<3,>=1.21.1 in d:\\1 - hackathons\\24 - youtube analysis\\venv\\lib\\site-packages (from requests>=2.26.0->tiktoken) (2.5.0)\n",
      "Requirement already satisfied: certifi>=2017.4.17 in d:\\1 - hackathons\\24 - youtube analysis\\venv\\lib\\site-packages (from requests>=2.26.0->tiktoken) (2025.8.3)\n",
      "Downloading tiktoken-0.11.0-cp312-cp312-win_amd64.whl (884 kB)\n",
      "   ---------------------------------------- 0.0/884.3 kB ? eta -:--:--\n",
      "   ---------------------------------------- 0.0/884.3 kB ? eta -:--:--\n",
      "   ----------------------------------- ---- 786.4/884.3 kB 3.0 MB/s eta 0:00:01\n",
      "   ---------------------------------------- 884.3/884.3 kB 2.7 MB/s  0:00:00\n",
      "Installing collected packages: tiktoken\n",
      "Successfully installed tiktoken-0.11.0\n",
      "Note: you may need to restart the kernel to use updated packages.\n"
     ]
    }
   ],
   "source": [
    "pip install tiktoken"
   ]
  },
  {
   "cell_type": "code",
   "execution_count": 8,
   "metadata": {},
   "outputs": [
    {
     "name": "stdout",
     "output_type": "stream",
     "text": [
      "Requirement already satisfied: sentencepiece in d:\\1 - hackathons\\24 - youtube analysis\\venv\\lib\\site-packages (0.2.1)\n",
      "Note: you may need to restart the kernel to use updated packages.\n"
     ]
    }
   ],
   "source": [
    "pip install sentencepiece\n"
   ]
  },
  {
   "cell_type": "code",
   "execution_count": 9,
   "metadata": {},
   "outputs": [
    {
     "name": "stdout",
     "output_type": "stream",
     "text": [
      "Collecting sacremoses\n",
      "  Downloading sacremoses-0.1.1-py3-none-any.whl.metadata (8.3 kB)\n",
      "Requirement already satisfied: regex in d:\\1 - hackathons\\24 - youtube analysis\\venv\\lib\\site-packages (from sacremoses) (2025.9.1)\n",
      "Requirement already satisfied: click in d:\\1 - hackathons\\24 - youtube analysis\\venv\\lib\\site-packages (from sacremoses) (8.2.1)\n",
      "Requirement already satisfied: joblib in d:\\1 - hackathons\\24 - youtube analysis\\venv\\lib\\site-packages (from sacremoses) (1.5.2)\n",
      "Requirement already satisfied: tqdm in d:\\1 - hackathons\\24 - youtube analysis\\venv\\lib\\site-packages (from sacremoses) (4.67.1)\n",
      "Requirement already satisfied: colorama in d:\\1 - hackathons\\24 - youtube analysis\\venv\\lib\\site-packages (from click->sacremoses) (0.4.6)\n",
      "Downloading sacremoses-0.1.1-py3-none-any.whl (897 kB)\n",
      "   ---------------------------------------- 0.0/897.5 kB ? eta -:--:--\n",
      "   ----------- ---------------------------- 262.1/897.5 kB ? eta -:--:--\n",
      "   ---------------------------------------- 897.5/897.5 kB 3.1 MB/s  0:00:00\n",
      "Installing collected packages: sacremoses\n",
      "Successfully installed sacremoses-0.1.1\n",
      "Note: you may need to restart the kernel to use updated packages.\n"
     ]
    }
   ],
   "source": [
    "pip install sacremoses"
   ]
  },
  {
   "cell_type": "code",
   "execution_count": 62,
   "metadata": {},
   "outputs": [
    {
     "name": "stderr",
     "output_type": "stream",
     "text": [
      "Device set to use cpu\n"
     ]
    },
    {
     "name": "stdout",
     "output_type": "stream",
     "text": [
      "[{'sentiment': 'Positive', 'score': 0.6084621548652649}]\n"
     ]
    }
   ],
   "source": [
    "from transformers import AutoTokenizer, AutoModelForSequenceClassification, pipeline\n",
    "\n",
    "model_name = \"cardiffnlp/twitter-roberta-base-sentiment\"\n",
    "tokenizer = AutoTokenizer.from_pretrained(model_name)\n",
    "model = AutoModelForSequenceClassification.from_pretrained(model_name)\n",
    "\n",
    "classifier = pipeline(\"sentiment-analysis\", model=model, tokenizer=tokenizer)\n",
    "\n",
    "comments = [\"thanku sir\"]\n",
    "results = classifier(comments)\n",
    "\n",
    "# Mapping labels\n",
    "labels = {0: \"Negative\", 1: \"Neutral\", 2: \"Positive\"}\n",
    "final_output = []\n",
    "\n",
    "for r in results:\n",
    "    label_num = int(r[\"label\"].split(\"_\")[-1])  # e.g. LABEL_2 → 2\n",
    "    final_output.append({\"sentiment\": labels[label_num], \"score\": r[\"score\"]})\n",
    "\n",
    "print(final_output)\n"
   ]
  },
  {
   "cell_type": "code",
   "execution_count": 1,
   "metadata": {},
   "outputs": [
    {
     "name": "stderr",
     "output_type": "stream",
     "text": [
      "d:\\1 - Hackathons\\24 - YouTube Analysis\\venv\\Lib\\site-packages\\tqdm\\auto.py:21: TqdmWarning: IProgress not found. Please update jupyter and ipywidgets. See https://ipywidgets.readthedocs.io/en/stable/user_install.html\n",
      "  from .autonotebook import tqdm as notebook_tqdm\n",
      "Device set to use cpu\n"
     ]
    },
    {
     "name": "stdout",
     "output_type": "stream",
     "text": [
      "✅ Sentiment labeling done and saved to data/labeled_comments.csv\n"
     ]
    }
   ],
   "source": [
    "import pandas as pd\n",
    "from transformers import pipeline\n",
    "\n",
    "# Load dataset\n",
    "df = pd.read_csv(\"data/oi1ffu6lBXE_clean.csv\")\n",
    "\n",
    "# Ensure all values are strings (no NaN/float)\n",
    "df[\"clean_text\"] = df[\"clean_text\"].astype(str).fillna(\"\")\n",
    "\n",
    "# Initialize classifier\n",
    "classifier = pipeline(\"sentiment-analysis\", model=\"cardiffnlp/twitter-roberta-base-sentiment\")\n",
    "\n",
    "# Mapping labels\n",
    "labels = {0: \"Negative\", 1: \"Neutral\", 2: \"Positive\"}\n",
    "\n",
    "batch_size = 32\n",
    "all_results = []\n",
    "\n",
    "for i in range(0, len(df), batch_size):\n",
    "    batch = df[\"clean_text\"].iloc[i:i+batch_size].tolist()\n",
    "    results = classifier(batch, truncation=True, padding=True, max_length=512)\n",
    "\n",
    "    for r in results:\n",
    "        label_num = int(r[\"label\"].split(\"_\")[-1])\n",
    "        all_results.append(labels[label_num])\n",
    "\n",
    "df[\"sentiment\"] = all_results\n",
    "df.to_csv(\"data/labeled_comments_2.csv\", index=False)\n",
    "print(\"✅ Sentiment labeling done and saved to data/labeled_comments.csv\")\n"
   ]
  },
  {
   "cell_type": "code",
   "execution_count": 2,
   "metadata": {},
   "outputs": [
    {
     "name": "stdout",
     "output_type": "stream",
     "text": [
      "sentiment\n",
      "Neutral     211\n",
      "Positive     86\n",
      "Negative      3\n",
      "Name: count, dtype: int64\n"
     ]
    }
   ],
   "source": [
    "print(df[\"sentiment\"].value_counts())"
   ]
  },
  {
   "cell_type": "code",
   "execution_count": 3,
   "metadata": {},
   "outputs": [
    {
     "data": {
      "image/png": "[encoded data removed]",
      "text/plain": [
       "<Figure size 640x480 with 1 Axes>"
      ]
     },
     "metadata": {},
     "output_type": "display_data"
    }
   ],
   "source": [
    "import seaborn as sns\n",
    "import matplotlib.pyplot as plt\n",
    "\n",
    "sns.countplot(x=\"sentiment\", data=df)\n",
    "plt.title(\"Sentiment Distribution in YouTube Comments\")\n",
    "plt.show()\n"
   ]
  },
  {
   "cell_type": "code",
   "execution_count": 4,
   "metadata": {},
   "outputs": [
    {
     "data": {
      "text/html": [
       "<div>\n",
       "<style scoped>\n",
       "    .dataframe tbody tr th:only-of-type {\n",
       "        vertical-align: middle;\n",
       "    }\n",
       "\n",
       "    .dataframe tbody tr th {\n",
       "        vertical-align: top;\n",
       "    }\n",
       "\n",
       "    .dataframe thead th {\n",
       "        text-align: right;\n",
       "    }\n",
       "</style>\n",
       "<table border=\"1\" class=\"dataframe\">\n",
       "  <thead>\n",
       "    <tr style=\"text-align: right;\">\n",
       "      <th></th>\n",
       "      <th>author</th>\n",
       "      <th>text</th>\n",
       "      <th>likes</th>\n",
       "      <th>clean_text</th>\n",
       "      <th>sentiment</th>\n",
       "    </tr>\n",
       "  </thead>\n",
       "  <tbody>\n",
       "    <tr>\n",
       "      <th>0</th>\n",
       "      <td>@CollegeWallahbyPW</td>\n",
       "      <td>📗 Enroll Now in Decode Batches and become JOB ...</td>\n",
       "      <td>10</td>\n",
       "      <td>greenbook enroll decode batches become job rea...</td>\n",
       "      <td>Neutral</td>\n",
       "    </tr>\n",
       "    <tr>\n",
       "      <th>1</th>\n",
       "      <td>@mobrurahmed-ts8ht4ry3r</td>\n",
       "      <td>Mazaa aagaya🎉</td>\n",
       "      <td>0</td>\n",
       "      <td>mazaa aagaya partypopper</td>\n",
       "      <td>Neutral</td>\n",
       "    </tr>\n",
       "    <tr>\n",
       "      <th>2</th>\n",
       "      <td>@79SAMYAK_MAHUDWALEBORKAR</td>\n",
       "      <td>C bahut bada hai</td>\n",
       "      <td>0</td>\n",
       "      <td>c bada hai</td>\n",
       "      <td>Neutral</td>\n",
       "    </tr>\n",
       "    <tr>\n",
       "      <th>3</th>\n",
       "      <td>@Mdsaif-d5x</td>\n",
       "      <td>❤❤❤😊</td>\n",
       "      <td>0</td>\n",
       "      <td>redheart redheart redheart smilingfacewithsmil...</td>\n",
       "      <td>Positive</td>\n",
       "    </tr>\n",
       "    <tr>\n",
       "      <th>4</th>\n",
       "      <td>@Mdsaif-d5x</td>\n",
       "      <td>Nice session ❤</td>\n",
       "      <td>0</td>\n",
       "      <td>nice session redheart</td>\n",
       "      <td>Positive</td>\n",
       "    </tr>\n",
       "  </tbody>\n",
       "</table>\n",
       "</div>"
      ],
      "text/plain": [
       "                      author  \\\n",
       "0         @CollegeWallahbyPW   \n",
       "1    @mobrurahmed-ts8ht4ry3r   \n",
       "2  @79SAMYAK_MAHUDWALEBORKAR   \n",
       "3                @Mdsaif-d5x   \n",
       "4                @Mdsaif-d5x   \n",
       "\n",
       "                                                text  likes  \\\n",
       "0  📗 Enroll Now in Decode Batches and become JOB ...     10   \n",
       "1                                      Mazaa aagaya🎉      0   \n",
       "2                                   C bahut bada hai      0   \n",
       "3                                               ❤❤❤😊      0   \n",
       "4                                     Nice session ❤      0   \n",
       "\n",
       "                                          clean_text sentiment  \n",
       "0  greenbook enroll decode batches become job rea...   Neutral  \n",
       "1                           mazaa aagaya partypopper   Neutral  \n",
       "2                                         c bada hai   Neutral  \n",
       "3  redheart redheart redheart smilingfacewithsmil...  Positive  \n",
       "4                              nice session redheart  Positive  "
      ]
     },
     "execution_count": 4,
     "metadata": {},
     "output_type": "execute_result"
    }
   ],
   "source": [
    "df = pd.read_csv('data/labeled_comments_2.csv')\n",
    "df.head()"
   ]
  },
  {
   "cell_type": "code",
   "execution_count": 7,
   "metadata": {},
   "outputs": [
    {
     "name": "stdout",
     "output_type": "stream",
     "text": [
      "                                            clean_text sentiment\n",
      "0    greenbook enroll decode batches become job rea...   Neutral\n",
      "1                             mazaa aagaya partypopper   Neutral\n",
      "2                                           c bada hai   Neutral\n",
      "5                                                  NaN   Neutral\n",
      "6                                                  NaN   Neutral\n",
      "..                                                 ...       ...\n",
      "292  visual studio code used extensions कौनकौन सा ड...   Neutral\n",
      "293  hello sir maine dcode c dsa batch purchase kiy...   Neutral\n",
      "294  java oneshot mein dal vaiya slightlysmilingfac...   Neutral\n",
      "298                                               part   Neutral\n",
      "299                              anybody tell name sir   Neutral\n",
      "\n",
      "[211 rows x 2 columns]\n"
     ]
    }
   ],
   "source": [
    "negative_comments = df[df['sentiment'] == \"Neutral\"]\n",
    "print(negative_comments[['clean_text', 'sentiment']])"
   ]
  },
  {
   "cell_type": "code",
   "execution_count": null,
   "metadata": {},
   "outputs": [],
   "source": []
  }
 ],
 "metadata": {
  "kernelspec": {
   "display_name": "venv",
   "language": "python",
   "name": "python3"
  },
  "language_info": {
   "codemirror_mode": {
    "name": "ipython",
    "version": 3
   },
   "file_extension": ".py",
   "mimetype": "text/x-python",
   "name": "python",
   "nbconvert_exporter": "python",
   "pygments_lexer": "ipython3",
   "version": "3.12.0"
  }
 },
 "nbformat": 4,
 "nbformat_minor": 2
}
